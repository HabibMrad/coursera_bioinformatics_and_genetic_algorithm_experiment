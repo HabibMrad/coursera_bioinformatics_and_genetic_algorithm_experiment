{
 "cells": [
  {
   "cell_type": "markdown",
   "metadata": {},
   "source": [
    "# Part 1: Coursera Bioinformatics Specialization ft. ATOH1 exploration\n",
    "\n",
    "The material in Part 1 of this notebook covers the material in Week 1 and Week 2 of the [Coursera Bioinformatics Specialization](http://bit.ly/courserabioinformatics).\n",
    "\n",
    "Part 2 builds upon Part 1 and uses the techniques to look into the [ATOH1 gene](https://en.wikipedia.org/wiki/ATOH1) (a gene responsible for hair cell production in humans). Part 2 then dives into the use of a genetic algorithm in an attempt evolve different mutations of the ATOH1 gene."
   ]
  },
  {
   "cell_type": "markdown",
   "metadata": {},
   "source": [
    "## Finding the minimum skew in a DNA sequence\n",
    "\n",
    "#### What is the minimum skew?\n",
    "\n",
    "In most areas throughout a genome you'll find an equal ratio of A's, C's, G's and T's (nucleotides). But when it comes to the origins of replication, the leading strand has more Guanine (G) and Thymine (T) and the lagging strand has more Cytosine (C) and Adenine (A). \n",
    "\n",
    "In our case, we'll focus on the ratio of C & G. When the number of C's to G's goes really low and suddenly starts getting higher (we'll see this in a second), we'll take the area around that inflection point as containing the origin of replication."
   ]
  },
  {
   "cell_type": "code",
   "execution_count": 1,
   "metadata": {},
   "outputs": [],
   "source": [
    "# Function to find the minimum skew\n",
    "def minimum_skew(dna):\n",
    "    skew_counts = skew_figures(dna)\n",
    "    # Find the minimum value\n",
    "    minimum = min(skew_counts)\n",
    "    indicies = [i+1 for i, v in enumerate(skew_counts) if v == minimum]\n",
    "    return indicies\n",
    "\n",
    "def skew_figures(dna):\n",
    "    skew_count = 0\n",
    "    skew_counts = []\n",
    "    for i in dna:\n",
    "        if i == 'C':\n",
    "            skew_count += -1\n",
    "        elif i == 'G':\n",
    "            skew_count += 1\n",
    "        else:\n",
    "            pass\n",
    "        skew_counts.append(skew_count)\n",
    "    return skew_counts"
   ]
  },
  {
   "cell_type": "markdown",
   "metadata": {},
   "source": [
    "## Complement of a DNA string\n",
    "\n",
    "Since DNA is double stranded, each nucleotide has a partner (A & T), (C & G). We'll create a map for this."
   ]
  },
  {
   "cell_type": "code",
   "execution_count": 2,
   "metadata": {},
   "outputs": [],
   "source": [
    "def complement(dna):\n",
    "    return {'A':'T',\n",
    "            'T':'A',\n",
    "            'C':'G',\n",
    "            'G':'C'}[dna]"
   ]
  },
  {
   "cell_type": "code",
   "execution_count": 3,
   "metadata": {},
   "outputs": [
    {
     "data": {
      "text/plain": [
       "'T'"
      ]
     },
     "execution_count": 3,
     "metadata": {},
     "output_type": "execute_result"
    }
   ],
   "source": [
    "complement('A')"
   ]
  },
  {
   "cell_type": "markdown",
   "metadata": {},
   "source": [
    "## Reverse complement of a DNA string\n",
    "Each strand of DNA is the reverse complement of the other. We'll use our complement map to create the reverse complement of any DNA strand."
   ]
  },
  {
   "cell_type": "code",
   "execution_count": 4,
   "metadata": {},
   "outputs": [],
   "source": [
    "def reverse_complement(dna):\n",
    "    \"\"\"\n",
    "    Returns the reverse complement of a DNA string.\n",
    "    \n",
    "    Example: 'ATGC' -> 'GCAT'\n",
    "    \"\"\"\n",
    "    return ''.join([complement(dna[i]) for i in range(len(dna)-1, -1, -1)])"
   ]
  },
  {
   "cell_type": "code",
   "execution_count": 5,
   "metadata": {},
   "outputs": [],
   "source": [
    "s = \"AGGTTGGTAAAATGGTCCGTGGC\""
   ]
  },
  {
   "cell_type": "code",
   "execution_count": 6,
   "metadata": {},
   "outputs": [
    {
     "data": {
      "text/plain": [
       "'GCCACGGACCATTTTACCAACCT'"
      ]
     },
     "execution_count": 6,
     "metadata": {},
     "output_type": "execute_result"
    }
   ],
   "source": [
    "reverse_complement(s)"
   ]
  },
  {
   "cell_type": "code",
   "execution_count": 7,
   "metadata": {},
   "outputs": [
    {
     "data": {
      "text/plain": [
       "'GCAT'"
      ]
     },
     "execution_count": 7,
     "metadata": {},
     "output_type": "execute_result"
    }
   ],
   "source": [
    "reverse_complement('ATGC')"
   ]
  },
  {
   "cell_type": "markdown",
   "metadata": {},
   "source": [
    "## Hamming distance between two strings\n",
    "To find out how much two DNA strands differ, we'll use the [Hamming distance](https://en.wikipedia.org/wiki/Hamming_distance). \n",
    "\n",
    "**Hamming distance:** In information theory, the Hamming distance between two strings of equal length is the number of positions at which the corresponding symbols are different. In other words, it measures the minimum number of substitutions required to change one string into the other, or the minimum number of errors that could have transformed one string into the other."
   ]
  },
  {
   "cell_type": "code",
   "execution_count": 8,
   "metadata": {},
   "outputs": [],
   "source": [
    "def hamming(dna1, dna2):\n",
    "    \"\"\"\n",
    "    Returns the number of differences between dna1 and dna2.\n",
    "    \n",
    "    Example: 'Hello' & 'Hellp' = 1\n",
    "    \"\"\"\n",
    "    return sum(dna1[i] != dna2[i] for i in range(len(dna1)))"
   ]
  },
  {
   "cell_type": "code",
   "execution_count": 9,
   "metadata": {},
   "outputs": [],
   "source": [
    "t = \"ACCGTAATAAACGTGTCCGTTGG\""
   ]
  },
  {
   "cell_type": "code",
   "execution_count": 10,
   "metadata": {},
   "outputs": [
    {
     "name": "stdout",
     "output_type": "stream",
     "text": [
      "There are 10 differences between s & t.\n"
     ]
    }
   ],
   "source": [
    "print(f'There are {hamming(s, t)} differences between s & t.')"
   ]
  },
  {
   "cell_type": "markdown",
   "metadata": {},
   "source": [
    "## Neighbours with 'd' differences\n",
    "\n",
    "Example: `ATTCCTTA` is a neighbour with a `d` of 1 to `ATTCCTTT` (1 difference)."
   ]
  },
  {
   "cell_type": "code",
   "execution_count": 11,
   "metadata": {},
   "outputs": [],
   "source": [
    "def neighbours(dna, d):\n",
    "    \"\"\"\n",
    "    Returns all possible string combinations of s with d differences.\n",
    "    \"\"\"\n",
    "    if d == 0:\n",
    "        return [dna]\n",
    "    if len(dna) == 1:\n",
    "        return ['A', 'C', 'G', 'T']\n",
    "    out = []\n",
    "    for neighbour in neighbours(dna[1:], d):\n",
    "        if hamming(dna[1:], neighbour) < d:\n",
    "            out.extend(['A'+neighbour, 'C'+neighbour, 'G'+neighbour, 'T'+neighbour])\n",
    "        else:\n",
    "            out.append(dna[0] + neighbour)\n",
    "    return out"
   ]
  },
  {
   "cell_type": "code",
   "execution_count": 12,
   "metadata": {},
   "outputs": [
    {
     "name": "stdout",
     "output_type": "stream",
     "text": [
      "Here are the neighbours of ACGT where d = 1:\n"
     ]
    },
    {
     "data": {
      "text/plain": [
       "['ATCA',\n",
       " 'ATCC',\n",
       " 'ATAG',\n",
       " 'AACG',\n",
       " 'ACCG',\n",
       " 'AGCG',\n",
       " 'ATCG',\n",
       " 'CTCG',\n",
       " 'GTCG',\n",
       " 'TTCG',\n",
       " 'ATGG',\n",
       " 'ATTG',\n",
       " 'ATCT']"
      ]
     },
     "execution_count": 12,
     "metadata": {},
     "output_type": "execute_result"
    }
   ],
   "source": [
    "print('Here are the neighbours of ACGT where d = 1:')\n",
    "neighbours('ATCG', d=1)"
   ]
  },
  {
   "cell_type": "markdown",
   "metadata": {},
   "source": [
    "## Frequent words with mismatches & reverse compliments\n",
    "\n",
    "Finds the max count of the `k-mer` sequence (length of DNA with `k` number of ACTG's) with a maximum of `d` differences which occurs in a DNA sequence."
   ]
  },
  {
   "cell_type": "code",
   "execution_count": 13,
   "metadata": {},
   "outputs": [],
   "source": [
    "def frequent_words_with_mismatches_and_reverse_compliments(dna, k, d):\n",
    "    \"\"\"\n",
    "    Returns max(dna sequence + reverse compliment count of k length \n",
    "    with a maximum of d differences).\n",
    "    \n",
    "    Example: If the pattern ACGT (and all of its neighbours + reverse\n",
    "             complements with d differences) appears 6 times in dna \n",
    "             and TCGA appears 4 times, will return ACGT.\n",
    "    \"\"\"\n",
    "    counts = {}\n",
    "    for i in range(len(dna)-k+1):\n",
    "        for sub_string in [dna[i:i+k], reverse_complement(dna[i:i+k])]:\n",
    "            for neighbour in neighbours(sub_string, d):\n",
    "                if neighbour not in counts:\n",
    "                    counts[neighbour] = 0\n",
    "                counts[neighbour] += 1\n",
    "    print(f'There are {len(counts)} potential length {k} k-mers with {d} differences.')\n",
    "    maximum = max(counts.values())\n",
    "    print(f'The max number of times one appears is {maximum}.')\n",
    "    return [kmer for kmer in counts if counts[kmer] == maximum]"
   ]
  },
  {
   "cell_type": "code",
   "execution_count": 14,
   "metadata": {},
   "outputs": [],
   "source": [
    "s = 'ACGTTGCATGTCGCATGATGCATGAGAGCT'\n",
    "k = 4\n",
    "d = 1"
   ]
  },
  {
   "cell_type": "code",
   "execution_count": 15,
   "metadata": {},
   "outputs": [
    {
     "name": "stdout",
     "output_type": "stream",
     "text": [
      "There are 225 potential length 4 k-mers with 1 differences.\n",
      "The max number of times one appears is 9.\n"
     ]
    },
    {
     "data": {
      "text/plain": [
       "['ACAT', 'ATGT']"
      ]
     },
     "execution_count": 15,
     "metadata": {},
     "output_type": "execute_result"
    }
   ],
   "source": [
    "frequent_words_with_mismatches_and_reverse_compliments(s, k, d)"
   ]
  },
  {
   "cell_type": "markdown",
   "metadata": {},
   "source": [
    "## Find DnaA boxes in Salmonella\n",
    "\n",
    "A method to find a DnaA box is to:\n",
    "   - Use `minimum_skew` to find the approximate location of oriC (replication of origin).\n",
    "   - Use `frequent_words_with_mismatches_and_reverse_compliments` to find the most frequent `k-mers` (k usually can be 9 for bacteria) in the area around the area returned by `minimum_skew` (250-500 base pairs either side).\n",
    "   - Compare these with the DnaA boxes found in E.coli (or another similar species) to see which ones look closest.\n",
    "   \n",
    "The Salmonella DNA sequence is stored as `Salmonella_enterica.txt`."
   ]
  },
  {
   "cell_type": "code",
   "execution_count": 16,
   "metadata": {},
   "outputs": [],
   "source": [
    "# Open Salmonella sequence\n",
    "with open('Salmonella_enterica.txt', 'r') as f:\n",
    "    salmonella = f.read()"
   ]
  },
  {
   "cell_type": "code",
   "execution_count": 17,
   "metadata": {},
   "outputs": [
    {
     "data": {
      "text/plain": [
       "4877856"
      ]
     },
     "execution_count": 17,
     "metadata": {},
     "output_type": "execute_result"
    }
   ],
   "source": [
    "# How big is it?\n",
    "len(salmonella)"
   ]
  },
  {
   "cell_type": "code",
   "execution_count": 18,
   "metadata": {},
   "outputs": [
    {
     "data": {
      "text/plain": [
       "'>gi|16758993|ref|NC_003198.1| Salmonella enterica subsp. enterica serovar Typhi str. CT18 chromosome, complete genome\\nAGAGATTACGTCTGGTTGCAAGAGATCATAACAGGGGAAATTGATTGAAAATAAATATATCGCCAGCAGC\\nACATGAACAAG'"
      ]
     },
     "execution_count": 18,
     "metadata": {},
     "output_type": "execute_result"
    }
   ],
   "source": [
    "# Let's look at the first 200 characters\n",
    "salmonella[:200]"
   ]
  },
  {
   "cell_type": "code",
   "execution_count": 19,
   "metadata": {},
   "outputs": [],
   "source": [
    "# We'll need to do some cleaning, slice the string and remove new lines\n",
    "salmonella = salmonella[118:].replace('\\n', '')"
   ]
  },
  {
   "cell_type": "code",
   "execution_count": 20,
   "metadata": {},
   "outputs": [
    {
     "data": {
      "text/plain": [
       "'AGAGATTACGTCTGGTTGCAAGAGATCATAACAGGGGAAATTGATTGAAAATAAATATATCGCCAGCAGCACATGAACAAGTTTCGGAATGTGATCAATTTAAAAATTTATTGACTTAGGCGGGCAGATACTTTAACCAATATAGGAATACAAGACAGACAAATAAAAATGACAGAGTACACAACATCCATGAACCGCAT'"
      ]
     },
     "execution_count": 20,
     "metadata": {},
     "output_type": "execute_result"
    }
   ],
   "source": [
    "# Let's look again\n",
    "salmonella[:200]"
   ]
  },
  {
   "cell_type": "markdown",
   "metadata": {},
   "source": [
    "Much better!"
   ]
  },
  {
   "cell_type": "markdown",
   "metadata": {},
   "source": [
    "## 1. Find the minimum skews"
   ]
  },
  {
   "cell_type": "code",
   "execution_count": 21,
   "metadata": {},
   "outputs": [],
   "source": [
    "# Get the ratio of G's and C's (skew_counts)\n",
    "skew_counts = skew_figures(salmonella)"
   ]
  },
  {
   "cell_type": "code",
   "execution_count": 22,
   "metadata": {},
   "outputs": [
    {
     "data": {
      "text/plain": [
       "Text(0.5,0,'Index of DNA')"
      ]
     },
     "execution_count": 22,
     "metadata": {},
     "output_type": "execute_result"
    },
    {
     "data": {
      "image/png": "[encoded data removed]",
      "text/plain": [
       "<Figure size 432x288 with 1 Axes>"
      ]
     },
     "metadata": {
      "needs_background": "light"
     },
     "output_type": "display_data"
    }
   ],
   "source": [
    "# Plot the skew_counts to check them out\n",
    "%matplotlib inline\n",
    "import matplotlib.pyplot as plt\n",
    "plt.plot(skew_counts)\n",
    "plt.ylabel('Skew Counts')\n",
    "plt.xlabel('Index of DNA')"
   ]
  },
  {
   "cell_type": "markdown",
   "metadata": {},
   "source": [
    "Can you see the minimum skew?\n",
    "\n",
    "What index do you think it's at?\n",
    "\n",
    "Let's check."
   ]
  },
  {
   "cell_type": "code",
   "execution_count": 23,
   "metadata": {},
   "outputs": [
    {
     "name": "stdout",
     "output_type": "stream",
     "text": [
      "[3764856, 3764858]\n"
     ]
    }
   ],
   "source": [
    "# Find the minimum skews in Salmonella\n",
    "minimum_skews = minimum_skew(salmonella)\n",
    "print(minimum_skews)"
   ]
  },
  {
   "cell_type": "markdown",
   "metadata": {},
   "source": [
    "## 2. Find the most frequent k-mers around the minimum skews region\n",
    "\n",
    "We'll start with `k=9` since this value is know for other bacteria."
   ]
  },
  {
   "cell_type": "code",
   "execution_count": 24,
   "metadata": {},
   "outputs": [
    {
     "name": "stdout",
     "output_type": "stream",
     "text": [
      "3764356\n",
      "3765358\n"
     ]
    }
   ],
   "source": [
    "# Define the search area, we'll use 1000 base pairs\n",
    "search_area = 1000\n",
    "\n",
    "# Get the lower end to search (to the left of the minimum skew)\n",
    "low_end = int(minimum_skews[0] - (search_area/2))\n",
    "\n",
    "# Get the higher bound to search (to the right of the minimum skew)\n",
    "high_end = int(minimum_skews[1] + (search_area/2))\n",
    "\n",
    "print(low_end)\n",
    "print(high_end)"
   ]
  },
  {
   "cell_type": "code",
   "execution_count": 25,
   "metadata": {},
   "outputs": [],
   "source": [
    "# Create the search window in the Salmonella DNA\n",
    "search_space = salmonella[low_end:high_end]"
   ]
  },
  {
   "cell_type": "code",
   "execution_count": 26,
   "metadata": {},
   "outputs": [
    {
     "data": {
      "text/plain": [
       "1002"
      ]
     },
     "execution_count": 26,
     "metadata": {},
     "output_type": "execute_result"
    }
   ],
   "source": [
    "# How big is the search space?\n",
    "len(search_space)"
   ]
  },
  {
   "cell_type": "markdown",
   "metadata": {},
   "source": [
    "This is greatly reduced compared to the original length of Salmonella (4+ million!)"
   ]
  },
  {
   "cell_type": "code",
   "execution_count": 27,
   "metadata": {},
   "outputs": [
    {
     "name": "stdout",
     "output_type": "stream",
     "text": [
      "There are 47490 potential length 9 k-mers with 1 differences.\n",
      "The max number of times one appears is 6.\n"
     ]
    },
    {
     "data": {
      "text/plain": [
       "['TTATCCACA', 'TGTGGATAA']"
      ]
     },
     "execution_count": 27,
     "metadata": {},
     "output_type": "execute_result"
    }
   ],
   "source": [
    "# Find the frequent kmers with mismatches, we'll use k=9 and allow\n",
    "# 1 mismatch (d=1) since nothing's perfect.\n",
    "frequent_words_with_mismatches_and_reverse_compliments(search_space, \n",
    "                                                       k=9,\n",
    "                                                       d=1)"
   ]
  },
  {
   "cell_type": "markdown",
   "metadata": {},
   "source": [
    "How do each of these compare with another species of bacteria?"
   ]
  },
  {
   "cell_type": "markdown",
   "metadata": {},
   "source": [
    "*The oriC site in E. coli has three AT rich 13 base pair regions (DUEs) followed by four 9 bp regions with the sequence TTAT(C or A)CA(C or A)A.*\n",
    "\n",
    "Source: https://en.wikipedia.org/wiki/DnaA"
   ]
  },
  {
   "cell_type": "markdown",
   "metadata": {},
   "source": [
    "We found it!"
   ]
  },
  {
   "cell_type": "markdown",
   "metadata": {},
   "source": [
    "---"
   ]
  },
  {
   "cell_type": "markdown",
   "metadata": {},
   "source": [
    "# Part 2: EXPERIMENT TIME (using the above to find out more about ATOH1)"
   ]
  },
  {
   "cell_type": "markdown",
   "metadata": {},
   "source": [
    "How can I take what I've learned in the [Coursera Bioinformatics course](http://bit.ly/courserabioinformatics) and apply to a real(?) problem.\n",
    "\n",
    "Let's find the DnaA box of the [ATOH1 gene](https://en.wikipedia.org/wiki/ATOH1).\n",
    "\n",
    "**Note:** *real* has a question mark because I don't know how much any of the following relates to actual biology, this is more an exploratory project to practice programming and learn more about genes/DNA."
   ]
  },
  {
   "cell_type": "markdown",
   "metadata": {},
   "source": [
    "## What's the ATOH1 gene?"
   ]
  },
  {
   "cell_type": "markdown",
   "metadata": {},
   "source": [
    "The inner ear is packed with small bones and hair cells which work together to translate soundwaves into electrical signals the brain can understand.\n",
    "\n",
    "For people who are born with hearing loss, one of the common reasons is because the hair cells in the cochlea (part of the inner ear) fail to develop.\n",
    "\n",
    "A [Cochlear implant](https://www.cochlear.com/au/home/understand/hearing-and-hl/hl-treatments/cochlear-implant) mimics the function of hair cells by inserting an electrode into the cochlea which relays the electrical signals of sound waves to the brain.\n",
    "\n",
    "What a Cochlear implant looks like:\n",
    "\n",
    "<img src=\"images/cochlear_implant.png\" alt=\"labelled picture of a cochlear implant\" width=\"600\"/>\n",
    "\n",
    "To find out more, I Googled 'what gene is responsible for hair cell generation in the ear'.\n",
    "\n",
    "Then found the link ['Sensory hair cell development and regeneration: similarities and differences'](https://www.ncbi.nlm.nih.gov/pmc/articles/PMC4419275/).\n",
    "\n",
    "And on that page was, \n",
    "\n",
    "*Atoh1 is the mammalian homolog of the Drosophila gene atonal, which was first described as a proneural gene involved in regulating the formation of mechanoreceptors and photoreceptors in Drosophila (Jarman et al., 1993, 1994). In the developing mouse cochlea, Atoh1 expression marks the prosensory region, and the Atoh1-positive lineage gives rise to sensory hair cells (Driver et al., 2013). In the absence of Atoh1 expression, prosensory cells fail to form hair cells and supporting cells and instead undergo cell death (Bermingham et al., 1999; Pan et al., 2011; Woods et al., 2004).*\n",
    "\n",
    "Okay...so what's ATOH1?\n",
    "\n",
    "Back to Google, 'what is the atoh1 gene?'.\n",
    "\n",
    "I found this: [ATOH1 atonal bHLH transcription factor 1 - Homo sapiens (human)](https://www.ncbi.nlm.nih.gov/gene/474).\n",
    "\n",
    "And on that page were a bunch of words and things I didn't understand except for a link which said '[See ATOH1 in Genome Data Viewer](https://www.ncbi.nlm.nih.gov/genome/gdv/?context=gene&acc=474)'.\n",
    "\n",
    "So I clicked it.\n",
    "\n",
    "The Genome Data Viewer looked interesting but I had no idea of how to read what I was seeing. So I went back a page and saw the word '[FASTA](https://www.ncbi.nlm.nih.gov/nuccore/NC_000004.12?report=fasta&from=93828927&to=93829991)'. For some reason the acronym reminded me of something so I clicked on it.\n",
    "\n",
    "AND THERE IT WAS!\n",
    "\n",
    "<img src=\"images/atoh1_gene.png\" alt=\"picture of ATOH1 gene genome sequence\" width=\"600\"/>\n",
    "\n",
    "Something I had seen before. A whole bunch of A's, C's, G's and T's.\n",
    "\n",
    "The next steps were obvious. I had to figure out if I could find what I found in Salmonella and E.coli in the ATOH1 gene. One of the pages said underexpression of the ATOH1 gene led to a lack of hair cell developement.\n",
    "\n",
    "What if we could find the DnaA box in ATOH1, use it to overexpress the gene and regrow hair cells? (moon shot)\n",
    "\n",
    "Were these things even related? Who knows. I decided to give it a shot anyway."
   ]
  },
  {
   "cell_type": "markdown",
   "metadata": {},
   "source": [
    "## Let's  try and find the DnaA box in ATOH1!\n",
    "To do this we'll try the same steps as the Salmonella DNA as the ATOH1 gene.\n",
    "\n",
    "- Use `minimum_skew` to find the approximate location of oriC (replication of origin).\n",
    "- Use `frequent_words_with_mismatches_and_reverse_compliments` to find the most frequent `k-mers` (k usually can be 9 for bacteria) in the area around the area returned by `minimum_skew` (250-500 base pairs either side).\n",
    "- Compare these with the DnaA boxes of other genes to see how it matches up."
   ]
  },
  {
   "cell_type": "code",
   "execution_count": 28,
   "metadata": {},
   "outputs": [],
   "source": [
    "# Open the ATOH1 gene\n",
    "with open('atoh1.txt', 'r') as f:\n",
    "    atoh1 = f.read()"
   ]
  },
  {
   "cell_type": "code",
   "execution_count": 29,
   "metadata": {},
   "outputs": [
    {
     "name": "stdout",
     "output_type": "stream",
     "text": [
      "The ATOH1 gene is 1080 base pairs long.\n"
     ]
    },
    {
     "data": {
      "text/plain": [
       "'ATGTCCCGCCTGCTGCATGCAGAAGAGTGGGCTGAAGTGAAGGAGTTGGGAGACCACCATCGCCAGCCCC\\nAGCCGCATCATCTCCCGCAACCGCCGCCGCCGCCGCAGCCACCTGCAACTTTGCAGGCGAGAGAGCATCC\\nCGTCTACCCGCCTGAGCTGTCCCTCCTGGACAGCACCGACCCACGCGCCTGGCTGGCT'"
      ]
     },
     "execution_count": 29,
     "metadata": {},
     "output_type": "execute_result"
    }
   ],
   "source": [
    "# Let's look\n",
    "print(f'The ATOH1 gene is {len(atoh1)} base pairs long.')\n",
    "atoh1[:200]"
   ]
  },
  {
   "cell_type": "code",
   "execution_count": 30,
   "metadata": {},
   "outputs": [
    {
     "name": "stdout",
     "output_type": "stream",
     "text": [
      "The ATOH1 gene is now 1065 base pairs long.\n"
     ]
    }
   ],
   "source": [
    "# Remove the newlines\n",
    "atoh1 = atoh1.replace('\\n', '')\n",
    "print(f'The ATOH1 gene is now {len(atoh1)} base pairs long.')"
   ]
  },
  {
   "cell_type": "markdown",
   "metadata": {},
   "source": [
    "## 1. Find the minimum skew"
   ]
  },
  {
   "cell_type": "code",
   "execution_count": 31,
   "metadata": {},
   "outputs": [],
   "source": [
    "# Get the ratio of G's and C's (skew_counts)\n",
    "skew_counts = skew_figures(atoh1)"
   ]
  },
  {
   "cell_type": "code",
   "execution_count": 32,
   "metadata": {},
   "outputs": [
    {
     "data": {
      "text/plain": [
       "Text(0.5,0,'Index of DNA')"
      ]
     },
     "execution_count": 32,
     "metadata": {},
     "output_type": "execute_result"
    },
    {
     "data": {
      "image/png": "[encoded data removed]",
      "text/plain": [
       "<Figure size 432x288 with 1 Axes>"
      ]
     },
     "metadata": {
      "needs_background": "light"
     },
     "output_type": "display_data"
    }
   ],
   "source": [
    "# Plot the skew counts\n",
    "plt.plot(skew_counts)\n",
    "plt.ylabel('Skew Counts')\n",
    "plt.xlabel('Index of DNA')"
   ]
  },
  {
   "cell_type": "markdown",
   "metadata": {},
   "source": [
    "Where should the minimum skew end up?"
   ]
  },
  {
   "cell_type": "code",
   "execution_count": 33,
   "metadata": {},
   "outputs": [
    {
     "name": "stdout",
     "output_type": "stream",
     "text": [
      "[254]\n"
     ]
    }
   ],
   "source": [
    "# Find the minimum skews in ATOH1\n",
    "minimum_skews = minimum_skew(atoh1)\n",
    "print(minimum_skews)"
   ]
  },
  {
   "cell_type": "markdown",
   "metadata": {},
   "source": [
    "## 2. Find the most frequent k-mers around the minimum skews region\n",
    "\n",
    "We'll start with `k=9` since is what we used for Salmonella.\n",
    "\n",
    "And since `ATOH1` is far smaller than Salmonella, we'll use a smaller search space of 500 (250 left and right of the minimum skew)."
   ]
  },
  {
   "cell_type": "code",
   "execution_count": 34,
   "metadata": {},
   "outputs": [
    {
     "name": "stdout",
     "output_type": "stream",
     "text": [
      "4\n",
      "504\n"
     ]
    }
   ],
   "source": [
    "# Define the search area, we'll use 500 base pairs\n",
    "search_area = 500\n",
    "\n",
    "# Get the lower end to search (to the left of the minimum skew)\n",
    "low_end = int(minimum_skews[0] - (search_area/2))\n",
    "\n",
    "# Get the higher bound to search (to the right of the minimum skew)\n",
    "high_end = int(minimum_skews[0] + (search_area/2))\n",
    "\n",
    "print(low_end)\n",
    "print(high_end)"
   ]
  },
  {
   "cell_type": "code",
   "execution_count": 35,
   "metadata": {},
   "outputs": [],
   "source": [
    "# Define the search space of ATOH1\n",
    "atoh1_search_space = atoh1[low_end:high_end]"
   ]
  },
  {
   "cell_type": "code",
   "execution_count": 36,
   "metadata": {},
   "outputs": [
    {
     "data": {
      "text/plain": [
       "500"
      ]
     },
     "execution_count": 36,
     "metadata": {},
     "output_type": "execute_result"
    }
   ],
   "source": [
    "# How big is the search space?\n",
    "len(atoh1_search_space)"
   ]
  },
  {
   "cell_type": "code",
   "execution_count": 37,
   "metadata": {},
   "outputs": [
    {
     "name": "stdout",
     "output_type": "stream",
     "text": [
      "There are 23652 potential length 9 k-mers with 1 differences.\n",
      "The max number of times one appears is 8.\n"
     ]
    },
    {
     "data": {
      "text/plain": [
       "['CGCAGCCGC', 'GCGGCTGCG']"
      ]
     },
     "execution_count": 37,
     "metadata": {},
     "output_type": "execute_result"
    }
   ],
   "source": [
    "# Find the frequent kmers with mismatches, we'll use k=9 and allow\n",
    "# 1 mismatch (d=1) since nothing's perfect.\n",
    "frequent_words_with_mismatches_and_reverse_compliments(atoh1_search_space, \n",
    "                                                       k=9,\n",
    "                                                       d=1)"
   ]
  },
  {
   "cell_type": "markdown",
   "metadata": {},
   "source": [
    "How does this stack up with what's online? Did we find the DnaA box?\n",
    "\n",
    "*This protein belongs to the basic helix-loop-helix (BHLH) family of transcription factors. It activates E-box dependent transcription along with E47.*\n",
    "\n",
    "Source: https://en.wikipedia.org/wiki/ATOH1\n",
    "\n",
    "Huh? What's an E-box?\n",
    "\n",
    "*An E-box (enhancer box) is a DNA response element found in some eukaryotes that acts as a protein-binding site and has been found to regulate gene expression in neurons, muscles, and other tissues.[1] Its specific DNA sequence, CANNTG (where N can be any nucleotide), with a palindromic canonical sequence of CACGTG,[2] is recognized and bound by transcription factors to initiate gene transcription.*\n",
    "\n",
    "Source: https://en.wikipedia.org/wiki/E-box\n",
    "\n",
    "Hmm...\n",
    "\n",
    "Our sequences don't match `CANNTG`. Let's try with a different value for `k`.\n",
    "\n",
    "This time we'll let `k=6` since that's the length of the E-box seqeunce."
   ]
  },
  {
   "cell_type": "code",
   "execution_count": 38,
   "metadata": {},
   "outputs": [
    {
     "name": "stdout",
     "output_type": "stream",
     "text": [
      "There are 3561 potential length 6 k-mers with 1 differences.\n",
      "The max number of times one appears is 32.\n"
     ]
    },
    {
     "data": {
      "text/plain": [
       "['CAGCTG']"
      ]
     },
     "execution_count": 38,
     "metadata": {},
     "output_type": "execute_result"
    }
   ],
   "source": [
    "# Find the frequent kmers with mismatches, we'll use k=6 and allow\n",
    "# 1 mismatch (d=1) since nothing's perfect.\n",
    "frequent_words_with_mismatches_and_reverse_compliments(atoh1_search_space, \n",
    "                                                       k=6,\n",
    "                                                       d=1)"
   ]
  },
  {
   "cell_type": "markdown",
   "metadata": {},
   "source": [
    "Target: CANNTG\n",
    "\n",
    "We got it!"
   ]
  },
  {
   "cell_type": "markdown",
   "metadata": {},
   "source": [
    "## Now what?"
   ]
  },
  {
   "cell_type": "markdown",
   "metadata": {},
   "source": [
    "If this E-box section had mutations, inner ear cells may not develop properly, leading to hearing impairment.\n",
    "\n",
    "What if we could evolve many copies of the E-box section until we found the right one?\n",
    "\n",
    "Then replace(?) the mutated copy with the right copy.\n",
    "\n",
    "I found a genetic algorithm for string manipulation here: http://pythonfiddle.com/genetic-algorithm-for-strings/\n",
    "        \n",
    "Let's adapt it and see what we can do with it for our `ATOH1` gene."
   ]
  },
  {
   "cell_type": "code",
   "execution_count": 39,
   "metadata": {},
   "outputs": [],
   "source": [
    "import random"
   ]
  },
  {
   "cell_type": "markdown",
   "metadata": {},
   "source": [
    "## Setup Global variables"
   ]
  },
  {
   "cell_type": "code",
   "execution_count": 40,
   "metadata": {},
   "outputs": [],
   "source": [
    "# Setup optimal string and genetic algorithm variables\n",
    "\n",
    "# E-box of ATOH1 gene\n",
    "OPTIMAL = \"CAGCTG\"\n",
    "\n",
    "# Full version of ATOH1 gene (1065 base pairs)\n",
    "#OPTIMAL = \"ATGTCCCGCCTGCTGCATGCAGAAGAGTGGGCTGAAGTGAAGGAGTTGGGAGACCACCATCGCCAGCCCCAGCCGCATCATCTCCCGCAACCGCCGCCGCCGCCGCAGCCACCTGCAACTTTGCAGGCGAGAGAGCATCCCGTCTACCCGCCTGAGCTGTCCCTCCTGGACAGCACCGACCCACGCGCCTGGCTGGCTCCCACTTTGCAGGGCATCTGCACGGCACGCGCCGCCCAGTATTTGCTACATTCCCCGGAGCTGGGTGCCTCAGAGGCCGCTGCGCCCCGGGACGAGGTGGACGGCCGGGGGGAGCTGGTAAGGAGGAGCAGCGGCGGTGCCAGCAGCAGCAAGAGCCCCGGGCCGGTGAAAGTGCGGGAACAGCTGTGCAAGCTGAAAGGCGGGGTGGTGGTAGACGAGCTGGGCTGCAGCCGCCAACGGGCCCCTTCCAGCAAACAGGTGAATGGGGTGCAGAAGCAGAGACGGCTAGCAGCCAACGCCAGGGAGCGGCGCAGGATGCATGGGCTGAACCACGCCTTCGACCAGCTGCGCAATGTTATCCCGTCGTTCAACAACGACAAGAAGCTGTCCAAATATGAGACCCTGCAGATGGCCCAAATCTACATCAACGCCTTGTCCGAGCTGCTACAAACGCCCAGCGGAGGGGAACAGCCACCGCCGCCTCCAGCCTCCTGCAAAAGCGACCACCACCACCTTCGCACCGCGGCCTCCTATGAAGGGGGCGCGGGCAACGCGACCGCAGCTGGGGCTCAGCAGGCTTCCGGAGGGAGCCAGCGGCCGACCCCGCCCGGGAGTTGCCGGACTCGCTTCTCAGCCCCAGCTTCTGCGGGAGGGTACTCGGTGCAGCTGGACGCTCTGCACTTCTCGACTTTCGAGGACAGCGCCCTGACAGCGATGATGGCGCAAAAGAATTTGTCTCCTTCTCTCCCCGGGAGCATCTTGCAGCCAGTGCAGGAGGAAAACAGCAAAACTTCGCCTCGGTCCCACAGAAGCGACGGGGAATTTTCCCCCCATTCCCATTACAGTGACTCGGATGAGGCAAGTTAG\"\n",
    "DNA_SIZE = len(OPTIMAL)\n",
    "POP_SIZE = 20\n",
    "GENERATIONS = 100"
   ]
  },
  {
   "cell_type": "markdown",
   "metadata": {},
   "source": [
    "## Helper functions\n",
    "\n",
    "These are used as support, but aren't direct genetic algorithm specific functions."
   ]
  },
  {
   "cell_type": "code",
   "execution_count": 41,
   "metadata": {},
   "outputs": [],
   "source": [
    "def weighted_choice(items):\n",
    "    \"\"\"\n",
    "    Chooses a random element from items, where items is a list of tuples in\n",
    "    the form (item, weight).\n",
    "    \n",
    "    weight determins the probability of choosing its respective item.\n",
    "    \"\"\"\n",
    "    weight_total = sum((item[1] for item in items))\n",
    "    n = random.uniform(0, weight_total)\n",
    "    for item, weight in items:\n",
    "        if n < weight:\n",
    "            return item\n",
    "        n = n - weight\n",
    "    return item"
   ]
  },
  {
   "cell_type": "code",
   "execution_count": 42,
   "metadata": {},
   "outputs": [
    {
     "data": {
      "text/plain": [
       "'Hello, World'"
      ]
     },
     "execution_count": 42,
     "metadata": {},
     "output_type": "execute_result"
    }
   ],
   "source": [
    "weighted_choice([('Hello, World', 1.0), ('Hellp, Worle', 0.7)])"
   ]
  },
  {
   "cell_type": "code",
   "execution_count": 43,
   "metadata": {},
   "outputs": [],
   "source": [
    "# Random char for DNA\n",
    "# A = 65, C = 67, G = 71, N = 78, T = 84\n",
    "def random_char():\n",
    "    \"\"\"\n",
    "    Return a random character A, C, G, T, N based on ASCII values.\n",
    "    \"\"\"\n",
    "    return chr(random.choice([65, 67, 71, 78, 84]))"
   ]
  },
  {
   "cell_type": "code",
   "execution_count": 44,
   "metadata": {},
   "outputs": [],
   "source": [
    "def random_char():\n",
    "    \"\"\"\n",
    "    Return a random character A, C, G, T, N based on ASCII values.\n",
    "    A = 65, C = 67, G = 71, N = 78, T = 84\n",
    "    \"\"\"\n",
    "    return chr(random.choice([65, 67, 71, 78, 84]))"
   ]
  },
  {
   "cell_type": "code",
   "execution_count": 45,
   "metadata": {},
   "outputs": [
    {
     "name": "stdout",
     "output_type": "stream",
     "text": [
      "A\n",
      "N\n",
      "T\n",
      "T\n",
      "C\n",
      "T\n",
      "C\n",
      "N\n",
      "A\n",
      "G\n"
     ]
    }
   ],
   "source": [
    "for i in range(0, 10):\n",
    "    print(random_char())"
   ]
  },
  {
   "cell_type": "code",
   "execution_count": 46,
   "metadata": {},
   "outputs": [],
   "source": [
    "def random_population():\n",
    "    \"\"\"\n",
    "    Return a list of POP_SIZE individuals, each randomly generated via iterating\n",
    "    DNA_SIZE times to generate a string of random characters with random_char().\n",
    "    \"\"\"\n",
    "    pop = []\n",
    "    for i in range(POP_SIZE):\n",
    "        dna = \"\"\n",
    "        for c in range(DNA_SIZE):\n",
    "            dna += random_char()\n",
    "        pop.append(dna)\n",
    "    return pop"
   ]
  },
  {
   "cell_type": "code",
   "execution_count": 47,
   "metadata": {},
   "outputs": [
    {
     "data": {
      "text/plain": [
       "['TNGCGC', 'AATNNC', 'GANGGN', 'TTGGCT', 'CCNNTA']"
      ]
     },
     "execution_count": 47,
     "metadata": {},
     "output_type": "execute_result"
    }
   ],
   "source": [
    "random_population()[:5]"
   ]
  },
  {
   "cell_type": "markdown",
   "metadata": {},
   "source": [
    "# GENETIC ALGORITHM TIME!!!!"
   ]
  },
  {
   "cell_type": "markdown",
   "metadata": {},
   "source": [
    "## Genetic Algorithm Functions\n",
    "These make up the bulk of the actual genetic algorithm."
   ]
  },
  {
   "cell_type": "code",
   "execution_count": 48,
   "metadata": {},
   "outputs": [],
   "source": [
    "def fitness(dna):\n",
    "    \"\"\"\n",
    "    For each gene in the DNA, this function calculates the difference between\n",
    "    it and the character in the same position in the OPTIMAL string\n",
    "    These values are summed and then returned.\n",
    "    The closer the DNA is to the OPTIMAL, the lower the fitness.\n",
    "    \"\"\"\n",
    "    fitness = 0\n",
    "    for c in range(DNA_SIZE):\n",
    "        fitness += abs(ord(dna[c]) - ord(OPTIMAL[c]))\n",
    "    return fitness"
   ]
  },
  {
   "cell_type": "code",
   "execution_count": 49,
   "metadata": {},
   "outputs": [
    {
     "name": "stdout",
     "output_type": "stream",
     "text": [
      "65\n",
      "67\n",
      "71\n",
      "84\n"
     ]
    }
   ],
   "source": [
    "# ord returns the ASCII value of a character\n",
    "for letter in 'ACGT':\n",
    "    print(ord(letter))"
   ]
  },
  {
   "cell_type": "code",
   "execution_count": 50,
   "metadata": {},
   "outputs": [
    {
     "name": "stdout",
     "output_type": "stream",
     "text": [
      "67\n",
      "65\n",
      "71\n",
      "67\n",
      "84\n",
      "71\n"
     ]
    }
   ],
   "source": [
    "for letter in OPTIMAL:\n",
    "    print(ord(letter))"
   ]
  },
  {
   "cell_type": "code",
   "execution_count": 51,
   "metadata": {},
   "outputs": [],
   "source": [
    "def mutate(dna):\n",
    "    \"\"\"\n",
    "    For each gene in the DNA, there is a 1/mutation_chance chance that it will be\n",
    "    switched out with a random character. This ensures diversity in the\n",
    "    population, and ensures that it is difficult to get stuck in local minima.\n",
    "    \"\"\"\n",
    "    dna_out = \"\"\n",
    "    mutation_chance = 4 # 1/4 chance of random\n",
    "    for c in range(DNA_SIZE):\n",
    "        if int(random.random()*mutation_chance) == 1:\n",
    "            dna_out += random_char() # generate a random character to swap\n",
    "        else:\n",
    "            dna_out += dna[c]\n",
    "    return dna_out"
   ]
  },
  {
   "cell_type": "code",
   "execution_count": 52,
   "metadata": {},
   "outputs": [],
   "source": [
    "def crossover(dna1, dna2):\n",
    "    \"\"\"\n",
    "    Slices both dna1 and dna2 into two parts at a random index within their\n",
    "    length and merges them. Both keep their initial sublist up to the crossover\n",
    "    index, but their ends are swapped.\n",
    "    \"\"\"\n",
    "    pos = int(random.random()*DNA_SIZE)\n",
    "    return(dna1[:pos]+dna2[pos:], dna2[:pos]+dna1[pos:])"
   ]
  },
  {
   "cell_type": "code",
   "execution_count": 53,
   "metadata": {},
   "outputs": [
    {
     "data": {
      "text/plain": [
       "('He, Everyone', 'Hillo, World')"
      ]
     },
     "execution_count": 53,
     "metadata": {},
     "output_type": "execute_result"
    }
   ],
   "source": [
    "crossover('Hello, World', 'Hi, Everyone')"
   ]
  },
  {
   "cell_type": "code",
   "execution_count": 54,
   "metadata": {},
   "outputs": [
    {
     "data": {
      "text/plain": [
       "('ACGATCGA', 'TCGTACGT')"
      ]
     },
     "execution_count": 54,
     "metadata": {},
     "output_type": "execute_result"
    }
   ],
   "source": [
    "crossover('ACGTACGT', 'TCGATCGA')"
   ]
  },
  {
   "cell_type": "markdown",
   "metadata": {},
   "source": [
    "## Generate a population and simulate GENERATIONS number of generations"
   ]
  },
  {
   "cell_type": "code",
   "execution_count": 55,
   "metadata": {},
   "outputs": [],
   "source": [
    "# Import more useful libraries\n",
    "import time\n",
    "import webbrowser"
   ]
  },
  {
   "cell_type": "code",
   "execution_count": 56,
   "metadata": {},
   "outputs": [],
   "source": [
    "def generate_pop(GENERATIONS, POP_SIZE, OPTIMAL):\n",
    "    \n",
    "    # Generate initial population. This will create a list of POP_SIZE strings,\n",
    "    # each initialized to a sequence of random characters.\n",
    "    population = random_population()\n",
    "    \n",
    "    # Simulate all of the generations\n",
    "    found_generations = []\n",
    "    for generation in range(GENERATIONS):\n",
    "        print(f'Generation {generation}... Random sample: {population[0]}')\n",
    "        weighted_population = []\n",
    "\n",
    "        # Add individuals and their respective fitness levels to the weighted\n",
    "        # population list. This will be used to pull out individuals via\n",
    "        # certain probabilities during the selection phase. Then, reset the\n",
    "        # population list so we can repopulate it after selection.\n",
    "        for individual in population:\n",
    "            fitness_val = fitness(individual)\n",
    "\n",
    "            if individual == OPTIMAL:\n",
    "                ideal_pop = population\n",
    "                found_generations.append(generation)\n",
    "\n",
    "            # Generate the (individual, fitness) pair, taking into account whether\n",
    "            # or not we will accidently divide by zero.\n",
    "            if fitness_val == 0:\n",
    "                pair = (individual, 1.0)\n",
    "            else:\n",
    "                pair = (individual, 1.0/fitness_val)\n",
    "\n",
    "            weighted_population.append(pair)\n",
    "\n",
    "        population = []\n",
    "\n",
    "        # Select two random individuals, based on their fitness probabilities,\n",
    "        # cross their genes over at a random point, mutate them, and add them\n",
    "        # back to the population for the next iteration.\n",
    "        for _ in range(int(POP_SIZE/2)):\n",
    "            # Selection\n",
    "            ind1 = weighted_choice(weighted_population)\n",
    "            ind2 = weighted_choice(weighted_population)\n",
    "\n",
    "            # Crossover\n",
    "            ind1, ind2 = crossover(ind1, ind2)\n",
    "\n",
    "            # Mutate and add back into the population\n",
    "            population.append(mutate(ind1))\n",
    "            population.append(mutate(ind2))\n",
    "\n",
    "    \n",
    "    return population, found_generations, ideal_pop"
   ]
  },
  {
   "cell_type": "code",
   "execution_count": 57,
   "metadata": {},
   "outputs": [],
   "source": [
    "# Display the highest-ranked string after all generations have been iterated\n",
    "# over. \n",
    "# This will be the closest string to the OPTIMAL string, meaning it\n",
    "# will have the smallest fitness value.\n",
    "def check_population(GENERATIONS, POP_SIZE, OPTIMAL):\n",
    "    # Let's time it \n",
    "    start_time = time.time()\n",
    "    \n",
    "    # Generate populations\n",
    "    population, found_generations, ideal_pop = generate_pop(GENERATIONS, POP_SIZE, OPTIMAL)\n",
    "    fittest_string = ideal_pop[0]\n",
    "    minimum_fitness = fitness(ideal_pop[0])\n",
    "\n",
    "    # Check the generated sequences\n",
    "    for individual in ideal_pop:\n",
    "        ind_fitness = fitness(individual)\n",
    "        if ind_fitness <= minimum_fitness:\n",
    "            fittest_string = individual\n",
    "            minimum_fitness = ind_fitness\n",
    "        \n",
    "        # If the OPTIMAL sequence is found, let there be sound!\n",
    "        if individual == OPTIMAL:\n",
    "            optimal_found = True\n",
    "            print(\"\\n\")\n",
    "            print(f\"Found OPTIMAL sequence on generation: {found_generations[0]}... opening browser!\")\n",
    "            webbrowser.open('https://youtu.be/Sp6vlsfgScU?t=646', new=1)\n",
    "            break\n",
    "        \n",
    "    total_time = time.time() - start_time\n",
    "    print(f\"Took {total_time} seconds to generate {GENERATIONS} generations.\")\n",
    "    print(f\"OPTIMAL sequence: '{OPTIMAL}'\")\n",
    "    print(f\"Fittest evolved sequence: '{fittest_string}', matches OPTIMAL? {optimal_found}\") \n",
    "    print(f\"Fitness level: {minimum_fitness}\")\n",
    "    "
   ]
  },
  {
   "cell_type": "code",
   "execution_count": 62,
   "metadata": {},
   "outputs": [
    {
     "name": "stdout",
     "output_type": "stream",
     "text": [
      "Generation 0... Random sample: TTTAAC\n",
      "Generation 1... Random sample: CAAAAG\n",
      "Generation 2... Random sample: CNAGAN\n",
      "Generation 3... Random sample: NCAGTG\n",
      "Generation 4... Random sample: ACCAAC\n",
      "Generation 5... Random sample: AGCCTC\n",
      "Generation 6... Random sample: ACCANN\n",
      "Generation 7... Random sample: TCCAAN\n",
      "Generation 8... Random sample: CCGCNN\n",
      "Generation 9... Random sample: ACGNTA\n",
      "Generation 10... Random sample: GCACGG\n",
      "Generation 11... Random sample: CCAATG\n",
      "Generation 12... Random sample: ACGAAN\n",
      "Generation 13... Random sample: AGGATA\n",
      "Generation 14... Random sample: CATGTG\n",
      "Generation 15... Random sample: CGGANG\n",
      "Generation 16... Random sample: CAGANA\n",
      "Generation 17... Random sample: GGCATG\n",
      "Generation 18... Random sample: CANGTG\n",
      "Generation 19... Random sample: AGCAGT\n",
      "Generation 20... Random sample: ATNGTA\n",
      "Generation 21... Random sample: ACGCTG\n",
      "Generation 22... Random sample: CTGGTA\n",
      "Generation 23... Random sample: GCACTG\n",
      "Generation 24... Random sample: CNGCGG\n",
      "Generation 25... Random sample: AAGCTG\n",
      "Generation 26... Random sample: CGGCNG\n",
      "Generation 27... Random sample: AAGTGG\n",
      "Generation 28... Random sample: AAGGTG\n",
      "Generation 29... Random sample: AACGNT\n",
      "Generation 30... Random sample: AACTTG\n",
      "Generation 31... Random sample: ATANTT\n",
      "Generation 32... Random sample: CAGCTG\n",
      "Generation 33... Random sample: CANCTG\n",
      "Generation 34... Random sample: NACCTG\n",
      "Generation 35... Random sample: CAANAN\n",
      "Generation 36... Random sample: NAGCAN\n",
      "Generation 37... Random sample: CCCCTA\n",
      "Generation 38... Random sample: AAGCNG\n",
      "Generation 39... Random sample: ACGATG\n",
      "Generation 40... Random sample: CAGTTN\n",
      "Generation 41... Random sample: NCAATG\n",
      "Generation 42... Random sample: CANCTA\n",
      "Generation 43... Random sample: CAACTG\n",
      "Generation 44... Random sample: CTGGTG\n",
      "Generation 45... Random sample: CNGCAG\n",
      "Generation 46... Random sample: NAGCTG\n",
      "Generation 47... Random sample: AAGCTC\n",
      "Generation 48... Random sample: AANNTA\n",
      "Generation 49... Random sample: ACGCTT\n",
      "Generation 50... Random sample: CAGCCG\n",
      "Generation 51... Random sample: TAGGTT\n",
      "Generation 52... Random sample: CAGNTG\n",
      "Generation 53... Random sample: GGGCCN\n",
      "Generation 54... Random sample: GTGATT\n",
      "Generation 55... Random sample: AAGCTN\n",
      "Generation 56... Random sample: CCGANA\n",
      "Generation 57... Random sample: AANCTN\n",
      "Generation 58... Random sample: TANCTA\n",
      "Generation 59... Random sample: CAGATT\n",
      "Generation 60... Random sample: ACGCTG\n",
      "Generation 61... Random sample: AATNTG\n",
      "Generation 62... Random sample: ACGCTT\n",
      "Generation 63... Random sample: AAGNTG\n",
      "Generation 64... Random sample: AAGAAG\n",
      "Generation 65... Random sample: AAGATG\n",
      "Generation 66... Random sample: AGGATG\n",
      "Generation 67... Random sample: CNGAAC\n",
      "Generation 68... Random sample: ACGNTG\n",
      "Generation 69... Random sample: ACGCTN\n",
      "Generation 70... Random sample: NAGCTT\n",
      "Generation 71... Random sample: CAACGG\n",
      "Generation 72... Random sample: NAGGGN\n",
      "Generation 73... Random sample: CACCTG\n",
      "Generation 74... Random sample: CGCCTG\n",
      "Generation 75... Random sample: NATCTN\n",
      "Generation 76... Random sample: CAGTNC\n",
      "Generation 77... Random sample: CAGCAC\n",
      "Generation 78... Random sample: AAGCTG\n",
      "Generation 79... Random sample: CAGCTG\n",
      "Generation 80... Random sample: AAGNTG\n",
      "Generation 81... Random sample: CTGCGG\n",
      "Generation 82... Random sample: CAGCTG\n",
      "Generation 83... Random sample: NAGNNA\n",
      "Generation 84... Random sample: CAGCTG\n",
      "Generation 85... Random sample: CCGCTG\n",
      "Generation 86... Random sample: CAGGTG\n",
      "Generation 87... Random sample: TNGCGG\n",
      "Generation 88... Random sample: CNGCTG\n",
      "Generation 89... Random sample: CATCTN\n",
      "Generation 90... Random sample: CAGNTG\n",
      "Generation 91... Random sample: CCTGTG\n",
      "Generation 92... Random sample: NCTNAN\n",
      "Generation 93... Random sample: AACCTT\n",
      "Generation 94... Random sample: AAGATG\n",
      "Generation 95... Random sample: GNTCTG\n",
      "Generation 96... Random sample: AAATCG\n",
      "Generation 97... Random sample: CAACTG\n",
      "Generation 98... Random sample: AAGNTG\n",
      "Generation 99... Random sample: ACGATT\n",
      "\n",
      "\n",
      "Found OPTIMAL sequence on generation: 29... opening browser!\n",
      "Took 0.351503849029541 seconds to generate 100 generations.\n",
      "OPTIMAL sequence: 'CAGCTG'\n",
      "Fittest evolved sequence: 'CAGCTG', matches OPTIMAL? True\n",
      "Fitness level: 0\n"
     ]
    }
   ],
   "source": [
    "check_population(GENERATIONS, POP_SIZE, OPTIMAL)"
   ]
  },
  {
   "cell_type": "markdown",
   "metadata": {},
   "source": [
    "## Finding the E-box was quick, but what about the entire ATOH1 gene (or the isolated window of it)?"
   ]
  },
  {
   "cell_type": "markdown",
   "metadata": {},
   "source": [
    "### For window (500bp) of ATOH1 gene:\n",
    "\n",
    "Lowest fitness after 1000 generations = 3102\n",
    "\n",
    "Lowest fitness after 10000 generations = 3098\n",
    "\n",
    "Lowest fitness after 100000 generations = 3206\n",
    "\n",
    "100000 generations takes 12 min."
   ]
  },
  {
   "cell_type": "markdown",
   "metadata": {},
   "source": [
    "### For full ATOH1 gene (1065bp):\n",
    "Lowest fitness after 1000 generations = 6725\n",
    "\n",
    "Lowest fitness after 10000 generations = 7039\n",
    "\n",
    "Lowest fitness after 100000 generations = 6975\n",
    "\n",
    "100000 generations takes 45 min 47s. "
   ]
  },
  {
   "cell_type": "markdown",
   "metadata": {},
   "source": [
    "## Next Steps\n",
    "- How could you make these faster?\n",
    "- Are there other kinds of algorithms to find the OPTIMAL sequence?\n",
    "    - Maybe random forests... :thinking-face:"
   ]
  },
  {
   "cell_type": "markdown",
   "metadata": {},
   "source": [
    "## Mistakes (oops)\n",
    "\n",
    "I later realised the steps I was using, mainly [finding the minimum skew is mostly for prokaryotes (single-celled organisms)](https://en.wikipedia.org/wiki/GC_skew) and not eukaryotes (like us). So my method is flawed but still fun.\n",
    "\n",
    "All apart of the learning journey."
   ]
  }
 ],
 "metadata": {
  "kernelspec": {
   "display_name": "Python 3",
   "language": "python",
   "name": "python3"
  },
  "language_info": {
   "codemirror_mode": {
    "name": "ipython",
    "version": 3
   },
   "file_extension": ".py",
   "mimetype": "text/x-python",
   "name": "python",
   "nbconvert_exporter": "python",
   "pygments_lexer": "ipython3",
   "version": "3.7.0"
  }
 },
 "nbformat": 4,
 "nbformat_minor": 2
}
